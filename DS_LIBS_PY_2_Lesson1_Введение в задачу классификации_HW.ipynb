{
 "cells": [
  {
   "cell_type": "markdown",
   "id": "0954a336-b042-4e4d-9fbc-cff04c796c48",
   "metadata": {
    "id": "0954a336-b042-4e4d-9fbc-cff04c796c48"
   },
   "source": [
    "## Урок 1.\n",
    "# Введение в задачу классификации.<br>Постановка задачи и подготовка данных."
   ]
  },
  {
   "cell_type": "markdown",
   "id": "99f0ea9e-28f9-4025-ab4b-3f51d07921ea",
   "metadata": {
    "colab": {
     "base_uri": "https://localhost:8080/"
    },
    "executionInfo": {
     "elapsed": 1296,
     "status": "ok",
     "timestamp": 1618256724780,
     "user": {
      "displayName": "Андрей Коржун",
      "photoUrl": "https://lh3.googleusercontent.com/a-/AOh14GiYXo_DJY--IR27WLi07-XHkZ2YHbsCbQZSCek6=s64",
      "userId": "02793855575918904545"
     },
     "user_tz": -180
    },
    "id": "M-c6m83dXVWQ",
    "outputId": "f8b1a7e2-8ca7-49fa-dfd0-2e144636ba48"
   },
   "source": [
    "__1.__ Приведите по 2 примера, когда лучше максимизировать Precision, а когда Recall."
   ]
  },
  {
   "cell_type": "markdown",
   "id": "3924c054-afe9-4525-a39f-9568acbfb358",
   "metadata": {
    "id": "3924c054-afe9-4525-a39f-9568acbfb358"
   },
   "source": [
    "**P** Классификация цели как «чужой» для последующей атаки. Необходимо максимизировать Precision во избежание трагических последствий.\n",
    "\n",
    "**P** Классификация фруктов по их изображениям как «пригоден к употреблению в пищу». Необходимо максимизировать Precision во избежание случайного отравления в результате ошибочного определения.\n",
    "\n",
    "**R** Классификация особей животных как «больной» для избежания эпидемии. Необходимо максимизировать Recall для более успешного лечения популяции.\n",
    "\n",
    "**R** Классификация по совокупности факторов предстоящего события как «будет столкновение с препятствием» при движении дрона. Необходимо максимизировать Recall для избежания аварии. "
   ]
  },
  {
   "cell_type": "markdown",
   "id": "85HCITgbzfj1",
   "metadata": {
    "id": "85HCITgbzfj1"
   },
   "source": [
    "__2.__ Почему мы используем F-меру, почему, например, нельзя просто взять среднее от Precision и Recall?"
   ]
  },
  {
   "cell_type": "markdown",
   "id": "ilB6719R76BV",
   "metadata": {
    "id": "ilB6719R76BV"
   },
   "source": [
    "F-мера  придает одинаковый вес и точности и полноте. Дает возможность оценки качества алгоритма классификации путем одновременной максимизации и точности  и полноты."
   ]
  }
 ],
 "metadata": {
  "colab": {
   "provenance": []
  },
  "kernelspec": {
   "display_name": "Python 3 (ipykernel)",
   "language": "python",
   "name": "python3"
  },
  "language_info": {
   "codemirror_mode": {
    "name": "ipython",
    "version": 3
   },
   "file_extension": ".py",
   "mimetype": "text/x-python",
   "name": "python",
   "nbconvert_exporter": "python",
   "pygments_lexer": "ipython3",
   "version": "3.9.12"
  }
 },
 "nbformat": 4,
 "nbformat_minor": 5
}
